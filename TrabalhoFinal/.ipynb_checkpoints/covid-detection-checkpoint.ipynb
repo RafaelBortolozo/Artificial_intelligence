{
 "cells": [
  {
   "cell_type": "code",
   "execution_count": null,
   "metadata": {
    "_cell_guid": "b1076dfc-b9ad-4769-8c92-a6c4dae69d19",
    "_uuid": "8f2839f25d086af736a60e9eeb907d3b93b6e0e5",
    "execution": {
     "iopub.execute_input": "2022-07-08T19:38:21.988142Z",
     "iopub.status.busy": "2022-07-08T19:38:21.987784Z",
     "iopub.status.idle": "2022-07-08T19:38:30.757054Z",
     "shell.execute_reply": "2022-07-08T19:38:30.755855Z",
     "shell.execute_reply.started": "2022-07-08T19:38:21.988067Z"
    }
   },
   "outputs": [],
   "source": [
    "import tensorflow as tf\n",
    "from tensorflow import keras\n",
    "import numpy as np\n",
    "import matplotlib.pyplot as plt\n",
    "from keras import layers\n",
    "from keras.preprocessing import image\n",
    "import os\n",
    "import cv2"
   ]
  },
  {
   "cell_type": "markdown",
   "metadata": {},
   "source": [
    "## Data Preparation :-"
   ]
  },
  {
   "cell_type": "code",
   "execution_count": null,
   "metadata": {
    "execution": {
     "iopub.execute_input": "2022-07-08T19:38:30.759151Z",
     "iopub.status.busy": "2022-07-08T19:38:30.758671Z",
     "iopub.status.idle": "2022-07-08T19:43:49.531099Z",
     "shell.execute_reply": "2022-07-08T19:43:49.529418Z",
     "shell.execute_reply.started": "2022-07-08T19:38:30.759127Z"
    }
   },
   "outputs": [],
   "source": [
    "# 1. creating directories for storing training, testing and validation data in resp class_names subdirectories\n",
    "# 2. prepare_data reads images, converts into suitable scale and flips them if needed (in case of training data) and saves them.\n",
    "# 3. train_cnt == # training data points\n",
    "# 4. val_cnt = # val_data data points (images)\n",
    "# Rest will be testing data\n",
    "\n",
    "# Cria as pastas com os dados do modelo\n",
    "os.makedirs('images/training/covid',exist_ok = True)\n",
    "os.makedirs('images/training/normal',exist_ok = True)\n",
    "os.makedirs('images/testing/covid',exist_ok = True)\n",
    "os.makedirs('images/testing/normal',exist_ok = True)\n",
    "os.makedirs('images/validation/covid',exist_ok = True)\n",
    "os.makedirs('images/validation/normal',exist_ok = True)\n",
    "\n",
    "def prepare_data(pre,des,train_cnt,val_cnt):\n",
    "    for file in os.listdir(pre+'/images'):\n",
    "        \n",
    "        image = cv2.resize(cv2.imread(pre+'/images/'+file),(256,256))\n",
    "        mask = cv2.resize(cv2.imread(pre+'/masks/'+file),(256,256))\n",
    "        image *= mask\n",
    "        \n",
    "        if(train_cnt > 0) : \n",
    "            cv2.imwrite('images/training/'+des+'/'+file,image)\n",
    "            if(des == 'covid') : cv2.imwrite('images/training/'+des+'/flipped_'+file,image[:,::-1,:])\n",
    "            train_cnt -= 1\n",
    "        elif (val_cnt > 0):\n",
    "            cv2.imwrite('images/validation/'+des+'/'+file,image)\n",
    "            if(des == 'covid') : cv2.imwrite('images/validation/'+des+'/flipped_'+file,image[:,::-1,:])\n",
    "            val_cnt -= 1\n",
    "        else:\n",
    "            cv2.imwrite('images/testing/'+des+'/'+file,image)\n",
    "            if(des == 'covid') : cv2.imwrite('images/testing/'+des+'/flipped_'+file,image[:,::-1,:])\n",
    "\n",
    "pre = './covid-19_dataset'\n",
    "\n",
    "train_cnt = len(os.listdir(pre+'/COVID/images'))\n",
    "val_cnt = train_cnt*(0.15)\n",
    "train_cnt -= 2*val_cnt\n",
    "prepare_data(pre+'/COVID','covid',train_cnt,val_cnt)\n",
    "               \n",
    "train_cnt = len(os.listdir(pre+'/Normal/images'))\n",
    "val_cnt = train_cnt*(0.15)\n",
    "train_cnt -= 2*val_cnt\n",
    "prepare_data(pre+'/Normal','normal',train_cnt,val_cnt)"
   ]
  },
  {
   "cell_type": "code",
   "execution_count": null,
   "metadata": {
    "execution": {
     "iopub.execute_input": "2022-07-08T19:43:49.533757Z",
     "iopub.status.busy": "2022-07-08T19:43:49.533406Z",
     "iopub.status.idle": "2022-07-08T19:43:49.549818Z",
     "shell.execute_reply": "2022-07-08T19:43:49.549055Z",
     "shell.execute_reply.started": "2022-07-08T19:43:49.533724Z"
    }
   },
   "outputs": [],
   "source": [
    "# Printing Total size of covid & normal dataset resp.\n",
    "\n",
    "print(len(os.listdir('images/training/covid')),len(os.listdir('images/training/normal')))\n",
    "print(len(os.listdir('images/validation/covid')),len(os.listdir('images/validation/normal')))\n",
    "print(len(os.listdir('images/testing/covid')),len(os.listdir('images/testing/normal')))"
   ]
  },
  {
   "cell_type": "code",
   "execution_count": null,
   "metadata": {
    "execution": {
     "iopub.execute_input": "2022-07-08T19:43:49.552881Z",
     "iopub.status.busy": "2022-07-08T19:43:49.552022Z",
     "iopub.status.idle": "2022-07-08T19:43:50.352836Z",
     "shell.execute_reply": "2022-07-08T19:43:50.35202Z",
     "shell.execute_reply.started": "2022-07-08T19:43:49.552853Z"
    }
   },
   "outputs": [],
   "source": [
    "covid = cv2.imread('./covid-19_dataset/COVID/images/COVID-1.png',cv2.IMREAD_GRAYSCALE)\n",
    "covid_mask = cv2.imread('./covid-19_dataset/COVID/masks/COVID-1.png',cv2.IMREAD_GRAYSCALE)\n",
    "covid1 = cv2.imread('images/training/covid/COVID-1.png',cv2.IMREAD_GRAYSCALE)\n",
    "\n",
    "normal = cv2.imread('./covid-19_dataset/Normal/images/Normal-2.png',cv2.IMREAD_GRAYSCALE)\n",
    "normal_mask = cv2.imread('./covid-19_dataset/Normal/masks/Normal-2.png',cv2.IMREAD_GRAYSCALE)\n",
    "normal1 = cv2.imread('images/training/normal/Normal-2.png',cv2.IMREAD_GRAYSCALE)\n",
    "\n",
    "plt.figure(figsize = (16,16))\n",
    "plt.subplot(3,2,1)\n",
    "plt.imshow(covid,cmap = 'gray')\n",
    "plt.subplot(3,2,2)\n",
    "plt.imshow(normal,cmap = 'gray')\n",
    "plt.subplot(3,2,3)\n",
    "plt.imshow(covid_mask,cmap = 'gray')\n",
    "plt.subplot(3,2,4)\n",
    "plt.imshow(normal_mask,cmap = 'gray')\n",
    "plt.subplot(3,2,5)\n",
    "plt.imshow(covid1,cmap = 'gray')\n",
    "plt.xlabel('COVID',fontdict = {'size':25})\n",
    "plt.subplot(3,2,6)\n",
    "plt.imshow(normal1,cmap = 'gray')\n",
    "plt.xlabel('NORMAL',fontdict = {'size':25})\n",
    "plt.show()"
   ]
  },
  {
   "cell_type": "markdown",
   "metadata": {},
   "source": [
    "## Creating model :-"
   ]
  },
  {
   "cell_type": "code",
   "execution_count": null,
   "metadata": {
    "execution": {
     "iopub.execute_input": "2022-07-08T19:43:50.354612Z",
     "iopub.status.busy": "2022-07-08T19:43:50.354305Z",
     "iopub.status.idle": "2022-07-08T19:43:50.363526Z",
     "shell.execute_reply": "2022-07-08T19:43:50.362719Z",
     "shell.execute_reply.started": "2022-07-08T19:43:50.354586Z"
    }
   },
   "outputs": [],
   "source": [
    "# Building model \n",
    "# input shape (256,256,1) => cubic dimension, 2D image, 1 channels(1 unit - deapth)\n",
    "# Model should be provided grayscale images\n",
    "\n",
    "def build_model():\n",
    "    input_layer = keras.Input(shape = (256,256,1)) \n",
    "    \n",
    "    x = layers.Rescaling(1/255.)(input_layer)\n",
    "    \n",
    "    x = layers.Conv2D(64,(3,3),activation='relu',name = 'conv2d_2')(x)\n",
    "    x = layers.MaxPooling2D(pool_size=(2,2))(x)\n",
    "    x = layers.Dropout(0.5)(x)\n",
    "    # randomly dropping some training points\n",
    "\n",
    "    x = layers.Conv2D(128,(3,3),activation='relu',name = 'conv2d_3')(x)\n",
    "    x = layers.MaxPooling2D(pool_size=(2,2))(x)\n",
    "    x = layers.Dropout(0.5)(x)\n",
    "\n",
    "    x = layers.Conv2D(256,(3,3),activation='relu',name = 'conv2d_4')(x)\n",
    "    x = layers.MaxPooling2D(pool_size=(2,2))(x)\n",
    "    x = layers.Dropout(0.5)(x)\n",
    "    \n",
    "    x = layers.Flatten()(x)\n",
    "    x = layers.Dense(32,activation='relu',name = 'dense_1')(x)\n",
    "    x = layers.Dropout(0.5)(x)\n",
    "    output_layer = layers.Dense(1,activation='sigmoid',name = 'dense_2')(x)\n",
    "\n",
    "    return keras.Model(input_layer,output_layer,name = 'model')"
   ]
  },
  {
   "cell_type": "code",
   "execution_count": null,
   "metadata": {
    "execution": {
     "iopub.execute_input": "2022-07-08T19:43:50.364988Z",
     "iopub.status.busy": "2022-07-08T19:43:50.36459Z",
     "iopub.status.idle": "2022-07-08T19:43:51.20499Z",
     "shell.execute_reply": "2022-07-08T19:43:51.203095Z",
     "shell.execute_reply.started": "2022-07-08T19:43:50.364961Z"
    }
   },
   "outputs": [],
   "source": [
    "model = build_model()"
   ]
  },
  {
   "cell_type": "code",
   "execution_count": null,
   "metadata": {
    "execution": {
     "iopub.execute_input": "2022-07-08T19:43:51.208314Z",
     "iopub.status.busy": "2022-07-08T19:43:51.206777Z",
     "iopub.status.idle": "2022-07-08T19:43:51.217973Z",
     "shell.execute_reply": "2022-07-08T19:43:51.215347Z",
     "shell.execute_reply.started": "2022-07-08T19:43:51.208254Z"
    }
   },
   "outputs": [],
   "source": [
    "model.summary()"
   ]
  },
  {
   "cell_type": "code",
   "execution_count": null,
   "metadata": {
    "execution": {
     "iopub.execute_input": "2022-07-08T19:43:51.226876Z",
     "iopub.status.busy": "2022-07-08T19:43:51.221217Z",
     "iopub.status.idle": "2022-07-08T19:43:51.87407Z",
     "shell.execute_reply": "2022-07-08T19:43:51.872349Z",
     "shell.execute_reply.started": "2022-07-08T19:43:51.226815Z"
    }
   },
   "outputs": [],
   "source": [
    "# creating data generators\n",
    "\n",
    "train_gen = image.ImageDataGenerator()\n",
    "train_ds = train_gen.flow_from_directory(\n",
    "    'images/training',\n",
    "    target_size = (256,256),\n",
    "    batch_size = 128,\n",
    "    class_mode = 'binary',\n",
    "    color_mode = 'grayscale'\n",
    ")\n",
    "\n",
    "val_gen = image.ImageDataGenerator()\n",
    "val_ds = val_gen.flow_from_directory(\n",
    "    'images/validation',\n",
    "    target_size = (256,256),\n",
    "    batch_size = 128,\n",
    "    class_mode = 'binary',\n",
    "    color_mode = 'grayscale'\n",
    ")"
   ]
  },
  {
   "cell_type": "code",
   "execution_count": null,
   "metadata": {
    "execution": {
     "iopub.execute_input": "2022-07-08T20:03:41.730681Z",
     "iopub.status.busy": "2022-07-08T20:03:41.73014Z"
    }
   },
   "outputs": [],
   "source": [
    "model.compile(loss = 'binary_crossentropy',optimizer = 'Adam',metrics = ['accuracy'])\n",
    "\n",
    "history = model.fit(\n",
    "    train_ds,\n",
    "    validation_data = val_ds,\n",
    "    epochs = 30,\n",
    ")\n"
   ]
  },
  {
   "cell_type": "code",
   "execution_count": null,
   "metadata": {
    "execution": {
     "iopub.status.busy": "2022-07-08T19:46:40.545701Z",
     "iopub.status.idle": "2022-07-08T19:46:40.546024Z",
     "shell.execute_reply": "2022-07-08T19:46:40.545884Z",
     "shell.execute_reply.started": "2022-07-08T19:46:40.54587Z"
    }
   },
   "outputs": [],
   "source": [
    "train_ds.class_indices , val_ds.class_indices"
   ]
  },
  {
   "cell_type": "code",
   "execution_count": null,
   "metadata": {
    "execution": {
     "iopub.status.busy": "2022-07-08T19:46:40.547463Z",
     "iopub.status.idle": "2022-07-08T19:46:40.547922Z",
     "shell.execute_reply": "2022-07-08T19:46:40.547791Z",
     "shell.execute_reply.started": "2022-07-08T19:46:40.547777Z"
    }
   },
   "outputs": [],
   "source": [
    "xtest = []\n",
    "ytest = []\n",
    "\n",
    "for file in os.listdir('images/testing/covid'):\n",
    "    image = cv2.imread('images/testing/covid/'+file,cv2.IMREAD_GRAYSCALE)\n",
    "    image = cv2.resize(image,(256,256))\n",
    "    xtest.append(image)\n",
    "    ytest.append(0)\n",
    "    \n",
    "for file in os.listdir('images/testing/normal'):\n",
    "    image = cv2.imread('images/testing/normal/'+file,cv2.IMREAD_GRAYSCALE)\n",
    "    image = cv2.resize(image,(256,256))\n",
    "    xtest.append(image)\n",
    "    ytest.append(1)\n",
    "    \n",
    "xtest = np.array(xtest)\n",
    "ytest = np.array(ytest).reshape(-1,1)"
   ]
  },
  {
   "cell_type": "code",
   "execution_count": null,
   "metadata": {
    "execution": {
     "iopub.status.busy": "2022-07-08T19:46:40.549267Z",
     "iopub.status.idle": "2022-07-08T19:46:40.549578Z",
     "shell.execute_reply": "2022-07-08T19:46:40.549427Z",
     "shell.execute_reply.started": "2022-07-08T19:46:40.549414Z"
    }
   },
   "outputs": [],
   "source": [
    "# predicting classes on xtest images and then\n",
    "# sigmoid gives final output as close to 0 or 1 (not exactly 0 or 1)\n",
    "# so converting them into 0 or 1 on the basis of closeness\n",
    "\n",
    "ypred = (model.predict(xtest) > 0.5)*1"
   ]
  },
  {
   "cell_type": "code",
   "execution_count": null,
   "metadata": {
    "execution": {
     "iopub.status.busy": "2022-07-08T19:46:40.551034Z",
     "iopub.status.idle": "2022-07-08T19:46:40.551304Z",
     "shell.execute_reply": "2022-07-08T19:46:40.551183Z",
     "shell.execute_reply.started": "2022-07-08T19:46:40.55117Z"
    }
   },
   "outputs": [],
   "source": [
    "# Finding accuracy on testing data\n",
    "\n",
    "correct_pred = (ytest == ypred).sum()\n",
    "print(100*correct_pred/(ytest.shape[0]))"
   ]
  },
  {
   "cell_type": "markdown",
   "metadata": {},
   "source": [
    "### It can differentiate between a normal and a covid infected lung with 90% accuracy"
   ]
  }
 ],
 "metadata": {
  "kernelspec": {
   "display_name": "Python 3 (ipykernel)",
   "language": "python",
   "name": "python3"
  },
  "language_info": {
   "codemirror_mode": {
    "name": "ipython",
    "version": 3
   },
   "file_extension": ".py",
   "mimetype": "text/x-python",
   "name": "python",
   "nbconvert_exporter": "python",
   "pygments_lexer": "ipython3",
   "version": "3.7.12"
  }
 },
 "nbformat": 4,
 "nbformat_minor": 4
}
